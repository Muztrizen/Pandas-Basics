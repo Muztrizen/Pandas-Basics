{
 "cells": [
  {
   "cell_type": "code",
   "execution_count": null,
   "metadata": {},
   "outputs": [],
   "source": [
    "import pandas as pd\n",
    "import csv\n",
    "import os"
   ]
  },
  {
   "cell_type": "code",
   "execution_count": null,
   "metadata": {},
   "outputs": [],
   "source": [
    "# Method 1: Set path - the simplest way \n",
    "df = pd.read_csv('../pandas_basics/titanic.csv')  "
   ]
  },
  {
   "cell_type": "code",
   "execution_count": null,
   "metadata": {},
   "outputs": [],
   "source": [
    "# Method 2: Set file path and file name as prefix with encoding\n",
    "file_path = '../pandas_basics/'\n",
    "file_name = 'titanic.csv'\n",
    "df = pd.read_csv(os.path.join(file_path, file_name), encoding='utf-8')"
   ]
  },
  {
   "cell_type": "code",
   "execution_count": null,
   "metadata": {},
   "outputs": [],
   "source": [
    "# Method 3: Use os.path.dirname (Return the directory name of pathname)\n",
    "df = pd.read_csv(os.path.join(os.path.dirname('__file__'), '../data science basics/titanic.csv'))"
   ]
  },
  {
   "cell_type": "code",
   "execution_count": null,
   "metadata": {},
   "outputs": [],
   "source": [
    "# Method 4: Set file path as prefix \n",
    "file_path = '../pandas_basics/'\n",
    "df = pd.read_csv(file_path + 'titanic.csv')"
   ]
  },
  {
   "cell_type": "code",
   "execution_count": null,
   "metadata": {},
   "outputs": [],
   "source": [
    "df"
   ]
  },
  {
   "cell_type": "code",
   "execution_count": null,
   "metadata": {
    "scrolled": false
   },
   "outputs": [],
   "source": [
    "# Save dataframe as csv in specific file path \n",
    "output_path = r'C:\\Users\\baharudin.ahmad\\Documents\\analytics_github\\pandas_basics'\n",
    "df.to_csv(os.path.join(output_path,'output_titanic.csv'), header=True, index=False, mode='w', encoding='utf-8')"
   ]
  }
 ],
 "metadata": {
  "kernelspec": {
   "display_name": "Python 3",
   "language": "python",
   "name": "python3"
  },
  "language_info": {
   "codemirror_mode": {
    "name": "ipython",
    "version": 3
   },
   "file_extension": ".py",
   "mimetype": "text/x-python",
   "name": "python",
   "nbconvert_exporter": "python",
   "pygments_lexer": "ipython3",
   "version": "3.8.5"
  }
 },
 "nbformat": 4,
 "nbformat_minor": 4
}
